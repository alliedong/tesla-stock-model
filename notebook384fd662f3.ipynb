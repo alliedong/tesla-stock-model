{
 "cells": [
  {
   "cell_type": "code",
   "execution_count": 1,
   "metadata": {
    "_cell_guid": "b1076dfc-b9ad-4769-8c92-a6c4dae69d19",
    "_uuid": "8f2839f25d086af736a60e9eeb907d3b93b6e0e5",
    "execution": {
     "iopub.execute_input": "2021-07-04T22:31:01.765881Z",
     "iopub.status.busy": "2021-07-04T22:31:01.765208Z",
     "iopub.status.idle": "2021-07-04T22:31:01.785983Z",
     "shell.execute_reply": "2021-07-04T22:31:01.785060Z",
     "shell.execute_reply.started": "2021-07-04T22:31:01.765780Z"
    }
   },
   "outputs": [
    {
     "name": "stdout",
     "output_type": "stream",
     "text": [
      "/kaggle/input/tesla-stock-price/Tesla.csv - Tesla.csv.csv\n"
     ]
    }
   ],
   "source": [
    "# This Python 3 environment comes with many helpful analytics libraries installed\n",
    "# It is defined by the kaggle/python Docker image: https://github.com/kaggle/docker-python\n",
    "# For example, here's several helpful packages to load\n",
    "\n",
    "import numpy as np # linear algebra\n",
    "import pandas as pd # data processing, CSV file I/O (e.g. pd.read_csv)\n",
    "\n",
    "# Input data files are available in the read-only \"../input/\" directory\n",
    "# For example, running this (by clicking run or pressing Shift+Enter) will list all files under the input directory\n",
    "\n",
    "import os\n",
    "for dirname, _, filenames in os.walk('/kaggle/input'):\n",
    "    for filename in filenames:\n",
    "        print(os.path.join(dirname, filename))\n",
    "\n",
    "# You can write up to 20GB to the current directory (/kaggle/working/) that gets preserved as output when you create a version using \"Save & Run All\" \n",
    "# You can also write temporary files to /kaggle/temp/, but they won't be saved outside of the current session"
   ]
  },
  {
   "cell_type": "code",
   "execution_count": 2,
   "metadata": {
    "execution": {
     "iopub.execute_input": "2021-07-04T22:31:01.787968Z",
     "iopub.status.busy": "2021-07-04T22:31:01.787343Z",
     "iopub.status.idle": "2021-07-04T22:31:01.809836Z",
     "shell.execute_reply": "2021-07-04T22:31:01.808855Z",
     "shell.execute_reply.started": "2021-07-04T22:31:01.787932Z"
    }
   },
   "outputs": [],
   "source": [
    "df=pd.read_csv(\"/kaggle/input/tesla-stock-price/Tesla.csv - Tesla.csv.csv\")"
   ]
  },
  {
   "cell_type": "code",
   "execution_count": 3,
   "metadata": {
    "execution": {
     "iopub.execute_input": "2021-07-04T22:31:01.811816Z",
     "iopub.status.busy": "2021-07-04T22:31:01.811447Z",
     "iopub.status.idle": "2021-07-04T22:31:01.846408Z",
     "shell.execute_reply": "2021-07-04T22:31:01.845729Z",
     "shell.execute_reply.started": "2021-07-04T22:31:01.811785Z"
    }
   },
   "outputs": [
    {
     "data": {
      "text/html": [
       "<div>\n",
       "<style scoped>\n",
       "    .dataframe tbody tr th:only-of-type {\n",
       "        vertical-align: middle;\n",
       "    }\n",
       "\n",
       "    .dataframe tbody tr th {\n",
       "        vertical-align: top;\n",
       "    }\n",
       "\n",
       "    .dataframe thead th {\n",
       "        text-align: right;\n",
       "    }\n",
       "</style>\n",
       "<table border=\"1\" class=\"dataframe\">\n",
       "  <thead>\n",
       "    <tr style=\"text-align: right;\">\n",
       "      <th></th>\n",
       "      <th>Date</th>\n",
       "      <th>Open</th>\n",
       "      <th>High</th>\n",
       "      <th>Low</th>\n",
       "      <th>Close</th>\n",
       "      <th>Volume</th>\n",
       "      <th>Adj Close</th>\n",
       "    </tr>\n",
       "  </thead>\n",
       "  <tbody>\n",
       "    <tr>\n",
       "      <th>0</th>\n",
       "      <td>6/29/2010</td>\n",
       "      <td>19.000000</td>\n",
       "      <td>25.000000</td>\n",
       "      <td>17.540001</td>\n",
       "      <td>23.889999</td>\n",
       "      <td>18766300</td>\n",
       "      <td>23.889999</td>\n",
       "    </tr>\n",
       "    <tr>\n",
       "      <th>1</th>\n",
       "      <td>6/30/2010</td>\n",
       "      <td>25.790001</td>\n",
       "      <td>30.420000</td>\n",
       "      <td>23.299999</td>\n",
       "      <td>23.830000</td>\n",
       "      <td>17187100</td>\n",
       "      <td>23.830000</td>\n",
       "    </tr>\n",
       "    <tr>\n",
       "      <th>2</th>\n",
       "      <td>7/1/2010</td>\n",
       "      <td>25.000000</td>\n",
       "      <td>25.920000</td>\n",
       "      <td>20.270000</td>\n",
       "      <td>21.959999</td>\n",
       "      <td>8218800</td>\n",
       "      <td>21.959999</td>\n",
       "    </tr>\n",
       "    <tr>\n",
       "      <th>3</th>\n",
       "      <td>7/2/2010</td>\n",
       "      <td>23.000000</td>\n",
       "      <td>23.100000</td>\n",
       "      <td>18.709999</td>\n",
       "      <td>19.200001</td>\n",
       "      <td>5139800</td>\n",
       "      <td>19.200001</td>\n",
       "    </tr>\n",
       "    <tr>\n",
       "      <th>4</th>\n",
       "      <td>7/6/2010</td>\n",
       "      <td>20.000000</td>\n",
       "      <td>20.000000</td>\n",
       "      <td>15.830000</td>\n",
       "      <td>16.110001</td>\n",
       "      <td>6866900</td>\n",
       "      <td>16.110001</td>\n",
       "    </tr>\n",
       "    <tr>\n",
       "      <th>...</th>\n",
       "      <td>...</td>\n",
       "      <td>...</td>\n",
       "      <td>...</td>\n",
       "      <td>...</td>\n",
       "      <td>...</td>\n",
       "      <td>...</td>\n",
       "      <td>...</td>\n",
       "    </tr>\n",
       "    <tr>\n",
       "      <th>1687</th>\n",
       "      <td>3/13/2017</td>\n",
       "      <td>244.820007</td>\n",
       "      <td>246.850006</td>\n",
       "      <td>242.779999</td>\n",
       "      <td>246.169998</td>\n",
       "      <td>3010700</td>\n",
       "      <td>246.169998</td>\n",
       "    </tr>\n",
       "    <tr>\n",
       "      <th>1688</th>\n",
       "      <td>3/14/2017</td>\n",
       "      <td>246.110001</td>\n",
       "      <td>258.119995</td>\n",
       "      <td>246.020004</td>\n",
       "      <td>258.000000</td>\n",
       "      <td>7575500</td>\n",
       "      <td>258.000000</td>\n",
       "    </tr>\n",
       "    <tr>\n",
       "      <th>1689</th>\n",
       "      <td>3/15/2017</td>\n",
       "      <td>257.000000</td>\n",
       "      <td>261.000000</td>\n",
       "      <td>254.270004</td>\n",
       "      <td>255.729996</td>\n",
       "      <td>4816600</td>\n",
       "      <td>255.729996</td>\n",
       "    </tr>\n",
       "    <tr>\n",
       "      <th>1690</th>\n",
       "      <td>3/16/2017</td>\n",
       "      <td>262.399994</td>\n",
       "      <td>265.750000</td>\n",
       "      <td>259.059998</td>\n",
       "      <td>262.049988</td>\n",
       "      <td>7100400</td>\n",
       "      <td>262.049988</td>\n",
       "    </tr>\n",
       "    <tr>\n",
       "      <th>1691</th>\n",
       "      <td>3/17/2017</td>\n",
       "      <td>264.000000</td>\n",
       "      <td>265.329987</td>\n",
       "      <td>261.200012</td>\n",
       "      <td>261.500000</td>\n",
       "      <td>6475900</td>\n",
       "      <td>261.500000</td>\n",
       "    </tr>\n",
       "  </tbody>\n",
       "</table>\n",
       "<p>1692 rows × 7 columns</p>\n",
       "</div>"
      ],
      "text/plain": [
       "           Date        Open        High         Low       Close    Volume  \\\n",
       "0     6/29/2010   19.000000   25.000000   17.540001   23.889999  18766300   \n",
       "1     6/30/2010   25.790001   30.420000   23.299999   23.830000  17187100   \n",
       "2      7/1/2010   25.000000   25.920000   20.270000   21.959999   8218800   \n",
       "3      7/2/2010   23.000000   23.100000   18.709999   19.200001   5139800   \n",
       "4      7/6/2010   20.000000   20.000000   15.830000   16.110001   6866900   \n",
       "...         ...         ...         ...         ...         ...       ...   \n",
       "1687  3/13/2017  244.820007  246.850006  242.779999  246.169998   3010700   \n",
       "1688  3/14/2017  246.110001  258.119995  246.020004  258.000000   7575500   \n",
       "1689  3/15/2017  257.000000  261.000000  254.270004  255.729996   4816600   \n",
       "1690  3/16/2017  262.399994  265.750000  259.059998  262.049988   7100400   \n",
       "1691  3/17/2017  264.000000  265.329987  261.200012  261.500000   6475900   \n",
       "\n",
       "       Adj Close  \n",
       "0      23.889999  \n",
       "1      23.830000  \n",
       "2      21.959999  \n",
       "3      19.200001  \n",
       "4      16.110001  \n",
       "...          ...  \n",
       "1687  246.169998  \n",
       "1688  258.000000  \n",
       "1689  255.729996  \n",
       "1690  262.049988  \n",
       "1691  261.500000  \n",
       "\n",
       "[1692 rows x 7 columns]"
      ]
     },
     "execution_count": 3,
     "metadata": {},
     "output_type": "execute_result"
    }
   ],
   "source": [
    "df"
   ]
  },
  {
   "cell_type": "code",
   "execution_count": 4,
   "metadata": {
    "execution": {
     "iopub.execute_input": "2021-07-04T22:31:01.848275Z",
     "iopub.status.busy": "2021-07-04T22:31:01.847803Z",
     "iopub.status.idle": "2021-07-04T22:31:01.854810Z",
     "shell.execute_reply": "2021-07-04T22:31:01.853857Z",
     "shell.execute_reply.started": "2021-07-04T22:31:01.848244Z"
    }
   },
   "outputs": [],
   "source": [
    "df1=df[\"Open\"]"
   ]
  },
  {
   "cell_type": "code",
   "execution_count": 5,
   "metadata": {
    "execution": {
     "iopub.execute_input": "2021-07-04T22:31:01.856205Z",
     "iopub.status.busy": "2021-07-04T22:31:01.855929Z",
     "iopub.status.idle": "2021-07-04T22:31:02.037498Z",
     "shell.execute_reply": "2021-07-04T22:31:02.036555Z",
     "shell.execute_reply.started": "2021-07-04T22:31:01.856177Z"
    }
   },
   "outputs": [
    {
     "data": {
      "text/plain": [
       "[<matplotlib.lines.Line2D at 0x7f638f0f3450>]"
      ]
     },
     "execution_count": 5,
     "metadata": {},
     "output_type": "execute_result"
    },
    {
     "data": {
      "image/png": "[encoded data removed]",
      "text/plain": [
       "<Figure size 432x288 with 1 Axes>"
      ]
     },
     "metadata": {
      "needs_background": "light"
     },
     "output_type": "display_data"
    }
   ],
   "source": [
    "import matplotlib.pyplot as plt\n",
    "plt.plot(df1)"
   ]
  },
  {
   "cell_type": "code",
   "execution_count": 6,
   "metadata": {
    "execution": {
     "iopub.execute_input": "2021-07-04T22:31:02.039000Z",
     "iopub.status.busy": "2021-07-04T22:31:02.038743Z",
     "iopub.status.idle": "2021-07-04T22:31:03.085531Z",
     "shell.execute_reply": "2021-07-04T22:31:03.084710Z",
     "shell.execute_reply.started": "2021-07-04T22:31:02.038975Z"
    }
   },
   "outputs": [],
   "source": [
    "from sklearn.linear_model import LinearRegression\n",
    "\n",
    "model1=LinearRegression()"
   ]
  },
  {
   "cell_type": "code",
   "execution_count": 7,
   "metadata": {
    "execution": {
     "iopub.execute_input": "2021-07-04T22:31:03.086995Z",
     "iopub.status.busy": "2021-07-04T22:31:03.086736Z",
     "iopub.status.idle": "2021-07-04T22:31:03.093929Z",
     "shell.execute_reply": "2021-07-04T22:31:03.092941Z",
     "shell.execute_reply.started": "2021-07-04T22:31:03.086970Z"
    }
   },
   "outputs": [],
   "source": [
    "target=df[\"High\"]\n",
    "data=df.drop([\"High\",\"Date\"], axis=1)"
   ]
  },
  {
   "cell_type": "code",
   "execution_count": 11,
   "metadata": {
    "execution": {
     "iopub.execute_input": "2021-07-04T22:31:56.307124Z",
     "iopub.status.busy": "2021-07-04T22:31:56.306773Z",
     "iopub.status.idle": "2021-07-04T22:31:56.312853Z",
     "shell.execute_reply": "2021-07-04T22:31:56.312125Z",
     "shell.execute_reply.started": "2021-07-04T22:31:56.307094Z"
    }
   },
   "outputs": [],
   "source": [
    "from sklearn.model_selection import train_test_split\n",
    "x_train, x_test, y_train, y_test = train_test_split(data,target)"
   ]
  },
  {
   "cell_type": "code",
   "execution_count": 12,
   "metadata": {
    "execution": {
     "iopub.execute_input": "2021-07-04T22:32:28.254745Z",
     "iopub.status.busy": "2021-07-04T22:32:28.254176Z",
     "iopub.status.idle": "2021-07-04T22:32:28.279167Z",
     "shell.execute_reply": "2021-07-04T22:32:28.278160Z",
     "shell.execute_reply.started": "2021-07-04T22:32:28.254696Z"
    }
   },
   "outputs": [
    {
     "data": {
      "text/plain": [
       "LinearRegression()"
      ]
     },
     "execution_count": 12,
     "metadata": {},
     "output_type": "execute_result"
    }
   ],
   "source": [
    "model1.fit(x_train, y_train)"
   ]
  },
  {
   "cell_type": "code",
   "execution_count": 13,
   "metadata": {
    "execution": {
     "iopub.execute_input": "2021-07-04T22:33:04.838413Z",
     "iopub.status.busy": "2021-07-04T22:33:04.838036Z",
     "iopub.status.idle": "2021-07-04T22:33:04.848600Z",
     "shell.execute_reply": "2021-07-04T22:33:04.847590Z",
     "shell.execute_reply.started": "2021-07-04T22:33:04.838382Z"
    }
   },
   "outputs": [
    {
     "data": {
      "text/plain": [
       "0.999822522906368"
      ]
     },
     "execution_count": 13,
     "metadata": {},
     "output_type": "execute_result"
    }
   ],
   "source": [
    "model1.score(x_test, y_test)"
   ]
  },
  {
   "cell_type": "code",
   "execution_count": 21,
   "metadata": {
    "execution": {
     "iopub.execute_input": "2021-07-04T22:45:23.880486Z",
     "iopub.status.busy": "2021-07-04T22:45:23.879937Z",
     "iopub.status.idle": "2021-07-04T22:45:23.894026Z",
     "shell.execute_reply": "2021-07-04T22:45:23.892818Z",
     "shell.execute_reply.started": "2021-07-04T22:45:23.880436Z"
    }
   },
   "outputs": [
    {
     "data": {
      "text/html": [
       "<div>\n",
       "<style scoped>\n",
       "    .dataframe tbody tr th:only-of-type {\n",
       "        vertical-align: middle;\n",
       "    }\n",
       "\n",
       "    .dataframe tbody tr th {\n",
       "        vertical-align: top;\n",
       "    }\n",
       "\n",
       "    .dataframe thead th {\n",
       "        text-align: right;\n",
       "    }\n",
       "</style>\n",
       "<table border=\"1\" class=\"dataframe\">\n",
       "  <thead>\n",
       "    <tr style=\"text-align: right;\">\n",
       "      <th></th>\n",
       "      <th>Open</th>\n",
       "      <th>Low</th>\n",
       "      <th>Close</th>\n",
       "      <th>Volume</th>\n",
       "      <th>Adj Close</th>\n",
       "    </tr>\n",
       "  </thead>\n",
       "  <tbody>\n",
       "    <tr>\n",
       "      <th>18</th>\n",
       "      <td>21.50</td>\n",
       "      <td>20.299999</td>\n",
       "      <td>20.950001</td>\n",
       "      <td>922200</td>\n",
       "      <td>20.950001</td>\n",
       "    </tr>\n",
       "    <tr>\n",
       "      <th>19</th>\n",
       "      <td>20.91</td>\n",
       "      <td>20.260000</td>\n",
       "      <td>20.549999</td>\n",
       "      <td>619700</td>\n",
       "      <td>20.549999</td>\n",
       "    </tr>\n",
       "  </tbody>\n",
       "</table>\n",
       "</div>"
      ],
      "text/plain": [
       "     Open        Low      Close  Volume  Adj Close\n",
       "18  21.50  20.299999  20.950001  922200  20.950001\n",
       "19  20.91  20.260000  20.549999  619700  20.549999"
      ]
     },
     "execution_count": 21,
     "metadata": {},
     "output_type": "execute_result"
    }
   ],
   "source": [
    "row1=data.iloc[18:20]\n",
    "row1"
   ]
  },
  {
   "cell_type": "code",
   "execution_count": 22,
   "metadata": {
    "execution": {
     "iopub.execute_input": "2021-07-04T22:45:29.701080Z",
     "iopub.status.busy": "2021-07-04T22:45:29.700721Z",
     "iopub.status.idle": "2021-07-04T22:45:29.708533Z",
     "shell.execute_reply": "2021-07-04T22:45:29.707820Z",
     "shell.execute_reply.started": "2021-07-04T22:45:29.701050Z"
    }
   },
   "outputs": [
    {
     "data": {
      "text/plain": [
       "array([21.65224607, 21.01587733])"
      ]
     },
     "execution_count": 22,
     "metadata": {},
     "output_type": "execute_result"
    }
   ],
   "source": [
    "model1.predict(row1)"
   ]
  },
  {
   "cell_type": "code",
   "execution_count": 25,
   "metadata": {
    "execution": {
     "iopub.execute_input": "2021-07-04T22:50:45.205135Z",
     "iopub.status.busy": "2021-07-04T22:50:45.204804Z",
     "iopub.status.idle": "2021-07-04T22:50:45.221785Z",
     "shell.execute_reply": "2021-07-04T22:50:45.220624Z",
     "shell.execute_reply.started": "2021-07-04T22:50:45.205107Z"
    }
   },
   "outputs": [
    {
     "data": {
      "text/html": [
       "<div>\n",
       "<style scoped>\n",
       "    .dataframe tbody tr th:only-of-type {\n",
       "        vertical-align: middle;\n",
       "    }\n",
       "\n",
       "    .dataframe tbody tr th {\n",
       "        vertical-align: top;\n",
       "    }\n",
       "\n",
       "    .dataframe thead th {\n",
       "        text-align: right;\n",
       "    }\n",
       "</style>\n",
       "<table border=\"1\" class=\"dataframe\">\n",
       "  <thead>\n",
       "    <tr style=\"text-align: right;\">\n",
       "      <th></th>\n",
       "      <th>Date</th>\n",
       "      <th>Open</th>\n",
       "      <th>High</th>\n",
       "      <th>Low</th>\n",
       "      <th>Close</th>\n",
       "      <th>Volume</th>\n",
       "      <th>Adj Close</th>\n",
       "    </tr>\n",
       "  </thead>\n",
       "  <tbody>\n",
       "    <tr>\n",
       "      <th>18</th>\n",
       "      <td>7/26/2010</td>\n",
       "      <td>21.50</td>\n",
       "      <td>21.50</td>\n",
       "      <td>20.299999</td>\n",
       "      <td>20.950001</td>\n",
       "      <td>922200</td>\n",
       "      <td>20.950001</td>\n",
       "    </tr>\n",
       "    <tr>\n",
       "      <th>19</th>\n",
       "      <td>7/27/2010</td>\n",
       "      <td>20.91</td>\n",
       "      <td>21.18</td>\n",
       "      <td>20.260000</td>\n",
       "      <td>20.549999</td>\n",
       "      <td>619700</td>\n",
       "      <td>20.549999</td>\n",
       "    </tr>\n",
       "  </tbody>\n",
       "</table>\n",
       "</div>"
      ],
      "text/plain": [
       "         Date   Open   High        Low      Close  Volume  Adj Close\n",
       "18  7/26/2010  21.50  21.50  20.299999  20.950001  922200  20.950001\n",
       "19  7/27/2010  20.91  21.18  20.260000  20.549999  619700  20.549999"
      ]
     },
     "execution_count": 25,
     "metadata": {},
     "output_type": "execute_result"
    }
   ],
   "source": [
    "df.iloc[18:20]"
   ]
  }
 ],
 "metadata": {
  "kernelspec": {
   "display_name": "Python 3",
   "language": "python",
   "name": "python3"
  },
  "language_info": {
   "codemirror_mode": {
    "name": "ipython",
    "version": 3
   },
   "file_extension": ".py",
   "mimetype": "text/x-python",
   "name": "python",
   "nbconvert_exporter": "python",
   "pygments_lexer": "ipython3",
   "version": "3.8.8"
  }
 },
 "nbformat": 4,
 "nbformat_minor": 4
}
