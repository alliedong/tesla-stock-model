{
 "cells": [
  {
   "cell_type": "code",
   "execution_count": 1,
   "metadata": {
    "_cell_guid": "b1076dfc-b9ad-4769-8c92-a6c4dae69d19",
    "_uuid": "8f2839f25d086af736a60e9eeb907d3b93b6e0e5",
    "execution": {
     "iopub.execute_input": "2021-07-04T22:31:01.765881Z",
     "iopub.status.busy": "2021-07-04T22:31:01.765208Z",
     "iopub.status.idle": "2021-07-04T22:31:01.785983Z",
     "shell.execute_reply": "2021-07-04T22:31:01.785060Z",
     "shell.execute_reply.started": "2021-07-04T22:31:01.765780Z"
    }
   },
   "outputs": [],
   "source": [
    "# This Python 3 environment comes with many helpful analytics libraries installed\n",
    "# It is defined by the kaggle/python Docker image: https://github.com/kaggle/docker-python\n",
    "# For example, here's several helpful packages to load\n",
    "\n",
    "import numpy as np # linear algebra\n",
    "import pandas as pd # data processing, CSV file I/O (e.g. pd.read_csv)\n",
    "\n",
    "# Input data files are available in the read-only \"../input/\" directory\n",
    "# For example, running this (by clicking run or pressing Shift+Enter) will list all files under the input directory\n",
    "\n",
    "# import os\n",
    "# for dirname, _, filenames in os.walk('/kaggle/input'):\n",
    "#     for filename in filenames:\n",
    "#         print(os.path.join(dirname, filename))\n",
    "\n",
    "# You can write up to 20GB to the current directory (/kaggle/working/) that gets preserved as output when you create a version using \"Save & Run All\" \n",
    "# You can also write temporary files to /kaggle/temp/, but they won't be saved outside of the current session\n",
    "\n"
   ]
  },
  {
   "cell_type": "code",
   "execution_count": 2,
   "metadata": {
    "execution": {
     "iopub.execute_input": "2021-07-04T22:31:01.787968Z",
     "iopub.status.busy": "2021-07-04T22:31:01.787343Z",
     "iopub.status.idle": "2021-07-04T22:31:01.809836Z",
     "shell.execute_reply": "2021-07-04T22:31:01.808855Z",
     "shell.execute_reply.started": "2021-07-04T22:31:01.787932Z"
    }
   },
   "outputs": [],
   "source": [
    "df=pd.read_csv(\"C:/Users/allie/Downloads/archive/Tesla.csv\")"
   ]
  },
  {
   "cell_type": "code",
   "execution_count": 3,
   "metadata": {
    "execution": {
     "iopub.execute_input": "2021-07-04T22:31:01.811816Z",
     "iopub.status.busy": "2021-07-04T22:31:01.811447Z",
     "iopub.status.idle": "2021-07-04T22:31:01.846408Z",
     "shell.execute_reply": "2021-07-04T22:31:01.845729Z",
     "shell.execute_reply.started": "2021-07-04T22:31:01.811785Z"
    }
   },
   "outputs": [
    {
     "data": {
      "text/html": [
       "<div>\n",
       "<style scoped>\n",
       "    .dataframe tbody tr th:only-of-type {\n",
       "        vertical-align: middle;\n",
       "    }\n",
       "\n",
       "    .dataframe tbody tr th {\n",
       "        vertical-align: top;\n",
       "    }\n",
       "\n",
       "    .dataframe thead th {\n",
       "        text-align: right;\n",
       "    }\n",
       "</style>\n",
       "<table border=\"1\" class=\"dataframe\">\n",
       "  <thead>\n",
       "    <tr style=\"text-align: right;\">\n",
       "      <th></th>\n",
       "      <th>Date</th>\n",
       "      <th>Open</th>\n",
       "      <th>High</th>\n",
       "      <th>Low</th>\n",
       "      <th>Close</th>\n",
       "      <th>Volume</th>\n",
       "      <th>Adj Close</th>\n",
       "    </tr>\n",
       "  </thead>\n",
       "  <tbody>\n",
       "    <tr>\n",
       "      <th>0</th>\n",
       "      <td>6/29/2010</td>\n",
       "      <td>19.000000</td>\n",
       "      <td>25.000000</td>\n",
       "      <td>17.540001</td>\n",
       "      <td>23.889999</td>\n",
       "      <td>18766300</td>\n",
       "      <td>23.889999</td>\n",
       "    </tr>\n",
       "    <tr>\n",
       "      <th>1</th>\n",
       "      <td>6/30/2010</td>\n",
       "      <td>25.790001</td>\n",
       "      <td>30.420000</td>\n",
       "      <td>23.299999</td>\n",
       "      <td>23.830000</td>\n",
       "      <td>17187100</td>\n",
       "      <td>23.830000</td>\n",
       "    </tr>\n",
       "    <tr>\n",
       "      <th>2</th>\n",
       "      <td>7/1/2010</td>\n",
       "      <td>25.000000</td>\n",
       "      <td>25.920000</td>\n",
       "      <td>20.270000</td>\n",
       "      <td>21.959999</td>\n",
       "      <td>8218800</td>\n",
       "      <td>21.959999</td>\n",
       "    </tr>\n",
       "    <tr>\n",
       "      <th>3</th>\n",
       "      <td>7/2/2010</td>\n",
       "      <td>23.000000</td>\n",
       "      <td>23.100000</td>\n",
       "      <td>18.709999</td>\n",
       "      <td>19.200001</td>\n",
       "      <td>5139800</td>\n",
       "      <td>19.200001</td>\n",
       "    </tr>\n",
       "    <tr>\n",
       "      <th>4</th>\n",
       "      <td>7/6/2010</td>\n",
       "      <td>20.000000</td>\n",
       "      <td>20.000000</td>\n",
       "      <td>15.830000</td>\n",
       "      <td>16.110001</td>\n",
       "      <td>6866900</td>\n",
       "      <td>16.110001</td>\n",
       "    </tr>\n",
       "    <tr>\n",
       "      <th>...</th>\n",
       "      <td>...</td>\n",
       "      <td>...</td>\n",
       "      <td>...</td>\n",
       "      <td>...</td>\n",
       "      <td>...</td>\n",
       "      <td>...</td>\n",
       "      <td>...</td>\n",
       "    </tr>\n",
       "    <tr>\n",
       "      <th>1687</th>\n",
       "      <td>3/13/2017</td>\n",
       "      <td>244.820007</td>\n",
       "      <td>246.850006</td>\n",
       "      <td>242.779999</td>\n",
       "      <td>246.169998</td>\n",
       "      <td>3010700</td>\n",
       "      <td>246.169998</td>\n",
       "    </tr>\n",
       "    <tr>\n",
       "      <th>1688</th>\n",
       "      <td>3/14/2017</td>\n",
       "      <td>246.110001</td>\n",
       "      <td>258.119995</td>\n",
       "      <td>246.020004</td>\n",
       "      <td>258.000000</td>\n",
       "      <td>7575500</td>\n",
       "      <td>258.000000</td>\n",
       "    </tr>\n",
       "    <tr>\n",
       "      <th>1689</th>\n",
       "      <td>3/15/2017</td>\n",
       "      <td>257.000000</td>\n",
       "      <td>261.000000</td>\n",
       "      <td>254.270004</td>\n",
       "      <td>255.729996</td>\n",
       "      <td>4816600</td>\n",
       "      <td>255.729996</td>\n",
       "    </tr>\n",
       "    <tr>\n",
       "      <th>1690</th>\n",
       "      <td>3/16/2017</td>\n",
       "      <td>262.399994</td>\n",
       "      <td>265.750000</td>\n",
       "      <td>259.059998</td>\n",
       "      <td>262.049988</td>\n",
       "      <td>7100400</td>\n",
       "      <td>262.049988</td>\n",
       "    </tr>\n",
       "    <tr>\n",
       "      <th>1691</th>\n",
       "      <td>3/17/2017</td>\n",
       "      <td>264.000000</td>\n",
       "      <td>265.329987</td>\n",
       "      <td>261.200012</td>\n",
       "      <td>261.500000</td>\n",
       "      <td>6475900</td>\n",
       "      <td>261.500000</td>\n",
       "    </tr>\n",
       "  </tbody>\n",
       "</table>\n",
       "<p>1692 rows × 7 columns</p>\n",
       "</div>"
      ],
      "text/plain": [
       "           Date        Open        High         Low       Close    Volume  \\\n",
       "0     6/29/2010   19.000000   25.000000   17.540001   23.889999  18766300   \n",
       "1     6/30/2010   25.790001   30.420000   23.299999   23.830000  17187100   \n",
       "2      7/1/2010   25.000000   25.920000   20.270000   21.959999   8218800   \n",
       "3      7/2/2010   23.000000   23.100000   18.709999   19.200001   5139800   \n",
       "4      7/6/2010   20.000000   20.000000   15.830000   16.110001   6866900   \n",
       "...         ...         ...         ...         ...         ...       ...   \n",
       "1687  3/13/2017  244.820007  246.850006  242.779999  246.169998   3010700   \n",
       "1688  3/14/2017  246.110001  258.119995  246.020004  258.000000   7575500   \n",
       "1689  3/15/2017  257.000000  261.000000  254.270004  255.729996   4816600   \n",
       "1690  3/16/2017  262.399994  265.750000  259.059998  262.049988   7100400   \n",
       "1691  3/17/2017  264.000000  265.329987  261.200012  261.500000   6475900   \n",
       "\n",
       "       Adj Close  \n",
       "0      23.889999  \n",
       "1      23.830000  \n",
       "2      21.959999  \n",
       "3      19.200001  \n",
       "4      16.110001  \n",
       "...          ...  \n",
       "1687  246.169998  \n",
       "1688  258.000000  \n",
       "1689  255.729996  \n",
       "1690  262.049988  \n",
       "1691  261.500000  \n",
       "\n",
       "[1692 rows x 7 columns]"
      ]
     },
     "execution_count": 3,
     "metadata": {},
     "output_type": "execute_result"
    }
   ],
   "source": [
    "df"
   ]
  },
  {
   "cell_type": "code",
   "execution_count": 5,
   "metadata": {
    "execution": {
     "iopub.execute_input": "2021-07-04T22:31:01.848275Z",
     "iopub.status.busy": "2021-07-04T22:31:01.847803Z",
     "iopub.status.idle": "2021-07-04T22:31:01.854810Z",
     "shell.execute_reply": "2021-07-04T22:31:01.853857Z",
     "shell.execute_reply.started": "2021-07-04T22:31:01.848244Z"
    }
   },
   "outputs": [],
   "source": [
    "df1=df[\"Open\"]"
   ]
  },
  {
   "cell_type": "code",
   "execution_count": 6,
   "metadata": {
    "execution": {
     "iopub.execute_input": "2021-07-04T22:31:01.856205Z",
     "iopub.status.busy": "2021-07-04T22:31:01.855929Z",
     "iopub.status.idle": "2021-07-04T22:31:02.037498Z",
     "shell.execute_reply": "2021-07-04T22:31:02.036555Z",
     "shell.execute_reply.started": "2021-07-04T22:31:01.856177Z"
    }
   },
   "outputs": [
    {
     "data": {
      "text/plain": [
       "[<matplotlib.lines.Line2D at 0x2c0bbff5b50>]"
      ]
     },
     "execution_count": 6,
     "metadata": {},
     "output_type": "execute_result"
    },
    {
     "data": {
      "image/png": "[encoded data removed]",
      "text/plain": [
       "<Figure size 432x288 with 1 Axes>"
      ]
     },
     "metadata": {
      "needs_background": "light"
     },
     "output_type": "display_data"
    }
   ],
   "source": [
    "import matplotlib.pyplot as plt\n",
    "plt.plot(df1)"
   ]
  },
  {
   "cell_type": "code",
   "execution_count": 8,
   "metadata": {
    "execution": {
     "iopub.execute_input": "2021-07-04T22:31:02.039000Z",
     "iopub.status.busy": "2021-07-04T22:31:02.038743Z",
     "iopub.status.idle": "2021-07-04T22:31:03.085531Z",
     "shell.execute_reply": "2021-07-04T22:31:03.084710Z",
     "shell.execute_reply.started": "2021-07-04T22:31:02.038975Z"
    }
   },
   "outputs": [],
   "source": [
    "from sklearn.linear_model import LinearRegression\n",
    "\n",
    "model1=LinearRegression()"
   ]
  },
  {
   "cell_type": "code",
   "execution_count": 9,
   "metadata": {
    "execution": {
     "iopub.execute_input": "2021-07-04T22:31:03.086995Z",
     "iopub.status.busy": "2021-07-04T22:31:03.086736Z",
     "iopub.status.idle": "2021-07-04T22:31:03.093929Z",
     "shell.execute_reply": "2021-07-04T22:31:03.092941Z",
     "shell.execute_reply.started": "2021-07-04T22:31:03.086970Z"
    }
   },
   "outputs": [],
   "source": [
    "target=df[\"High\"]\n",
    "data=df.drop([\"High\",\"Date\"], axis=1)"
   ]
  },
  {
   "cell_type": "code",
   "execution_count": 10,
   "metadata": {
    "execution": {
     "iopub.execute_input": "2021-07-04T22:31:56.307124Z",
     "iopub.status.busy": "2021-07-04T22:31:56.306773Z",
     "iopub.status.idle": "2021-07-04T22:31:56.312853Z",
     "shell.execute_reply": "2021-07-04T22:31:56.312125Z",
     "shell.execute_reply.started": "2021-07-04T22:31:56.307094Z"
    }
   },
   "outputs": [],
   "source": [
    "from sklearn.model_selection import train_test_split\n",
    "x_train, x_test, y_train, y_test = train_test_split(data,target)"
   ]
  },
  {
   "cell_type": "code",
   "execution_count": 11,
   "metadata": {
    "execution": {
     "iopub.execute_input": "2021-07-04T22:32:28.254745Z",
     "iopub.status.busy": "2021-07-04T22:32:28.254176Z",
     "iopub.status.idle": "2021-07-04T22:32:28.279167Z",
     "shell.execute_reply": "2021-07-04T22:32:28.278160Z",
     "shell.execute_reply.started": "2021-07-04T22:32:28.254696Z"
    }
   },
   "outputs": [
    {
     "data": {
      "text/plain": [
       "LinearRegression()"
      ]
     },
     "execution_count": 11,
     "metadata": {},
     "output_type": "execute_result"
    }
   ],
   "source": [
    "model1.fit(x_train, y_train)"
   ]
  },
  {
   "cell_type": "code",
   "execution_count": 12,
   "metadata": {
    "execution": {
     "iopub.execute_input": "2021-07-04T22:33:04.838413Z",
     "iopub.status.busy": "2021-07-04T22:33:04.838036Z",
     "iopub.status.idle": "2021-07-04T22:33:04.848600Z",
     "shell.execute_reply": "2021-07-04T22:33:04.847590Z",
     "shell.execute_reply.started": "2021-07-04T22:33:04.838382Z"
    }
   },
   "outputs": [
    {
     "data": {
      "text/plain": [
       "0.9998162793658727"
      ]
     },
     "execution_count": 12,
     "metadata": {},
     "output_type": "execute_result"
    }
   ],
   "source": [
    "model1.score(x_test, y_test)"
   ]
  },
  {
   "cell_type": "code",
   "execution_count": 15,
   "metadata": {
    "execution": {
     "iopub.execute_input": "2021-07-04T22:45:23.880486Z",
     "iopub.status.busy": "2021-07-04T22:45:23.879937Z",
     "iopub.status.idle": "2021-07-04T22:45:23.894026Z",
     "shell.execute_reply": "2021-07-04T22:45:23.892818Z",
     "shell.execute_reply.started": "2021-07-04T22:45:23.880436Z"
    }
   },
   "outputs": [
    {
     "data": {
      "text/html": [
       "<div>\n",
       "<style scoped>\n",
       "    .dataframe tbody tr th:only-of-type {\n",
       "        vertical-align: middle;\n",
       "    }\n",
       "\n",
       "    .dataframe tbody tr th {\n",
       "        vertical-align: top;\n",
       "    }\n",
       "\n",
       "    .dataframe thead th {\n",
       "        text-align: right;\n",
       "    }\n",
       "</style>\n",
       "<table border=\"1\" class=\"dataframe\">\n",
       "  <thead>\n",
       "    <tr style=\"text-align: right;\">\n",
       "      <th></th>\n",
       "      <th>Open</th>\n",
       "      <th>Low</th>\n",
       "      <th>Close</th>\n",
       "      <th>Volume</th>\n",
       "      <th>Adj Close</th>\n",
       "    </tr>\n",
       "  </thead>\n",
       "  <tbody>\n",
       "    <tr>\n",
       "      <th>50</th>\n",
       "      <td>21.00</td>\n",
       "      <td>20.690001</td>\n",
       "      <td>20.709999</td>\n",
       "      <td>376200</td>\n",
       "      <td>20.709999</td>\n",
       "    </tr>\n",
       "    <tr>\n",
       "      <th>51</th>\n",
       "      <td>20.75</td>\n",
       "      <td>19.760000</td>\n",
       "      <td>20.170000</td>\n",
       "      <td>386600</td>\n",
       "      <td>20.170000</td>\n",
       "    </tr>\n",
       "  </tbody>\n",
       "</table>\n",
       "</div>"
      ],
      "text/plain": [
       "     Open        Low      Close  Volume  Adj Close\n",
       "50  21.00  20.690001  20.709999  376200  20.709999\n",
       "51  20.75  19.760000  20.170000  386600  20.170000"
      ]
     },
     "execution_count": 15,
     "metadata": {},
     "output_type": "execute_result"
    }
   ],
   "source": [
    "row1=data.iloc[50:52]\n",
    "row1"
   ]
  },
  {
   "cell_type": "code",
   "execution_count": 27,
   "metadata": {},
   "outputs": [
    {
     "data": {
      "text/html": [
       "<div>\n",
       "<style scoped>\n",
       "    .dataframe tbody tr th:only-of-type {\n",
       "        vertical-align: middle;\n",
       "    }\n",
       "\n",
       "    .dataframe tbody tr th {\n",
       "        vertical-align: top;\n",
       "    }\n",
       "\n",
       "    .dataframe thead th {\n",
       "        text-align: right;\n",
       "    }\n",
       "</style>\n",
       "<table border=\"1\" class=\"dataframe\">\n",
       "  <thead>\n",
       "    <tr style=\"text-align: right;\">\n",
       "      <th></th>\n",
       "      <th>Open</th>\n",
       "      <th>Low</th>\n",
       "      <th>Close</th>\n",
       "      <th>Volume</th>\n",
       "      <th>Adj Close</th>\n",
       "    </tr>\n",
       "  </thead>\n",
       "  <tbody>\n",
       "    <tr>\n",
       "      <th>0</th>\n",
       "      <td>19.000000</td>\n",
       "      <td>17.540001</td>\n",
       "      <td>23.889999</td>\n",
       "      <td>18766300</td>\n",
       "      <td>23.889999</td>\n",
       "    </tr>\n",
       "    <tr>\n",
       "      <th>1358</th>\n",
       "      <td>214.500000</td>\n",
       "      <td>212.520004</td>\n",
       "      <td>221.070007</td>\n",
       "      <td>2811900</td>\n",
       "      <td>221.070007</td>\n",
       "    </tr>\n",
       "    <tr>\n",
       "      <th>1192</th>\n",
       "      <td>198.270004</td>\n",
       "      <td>192.699997</td>\n",
       "      <td>194.300003</td>\n",
       "      <td>5730400</td>\n",
       "      <td>194.300003</td>\n",
       "    </tr>\n",
       "    <tr>\n",
       "      <th>587</th>\n",
       "      <td>28.520000</td>\n",
       "      <td>27.250000</td>\n",
       "      <td>27.420000</td>\n",
       "      <td>1016400</td>\n",
       "      <td>27.420000</td>\n",
       "    </tr>\n",
       "    <tr>\n",
       "      <th>284</th>\n",
       "      <td>25.600000</td>\n",
       "      <td>25.360001</td>\n",
       "      <td>26.309999</td>\n",
       "      <td>1009100</td>\n",
       "      <td>26.309999</td>\n",
       "    </tr>\n",
       "    <tr>\n",
       "      <th>...</th>\n",
       "      <td>...</td>\n",
       "      <td>...</td>\n",
       "      <td>...</td>\n",
       "      <td>...</td>\n",
       "      <td>...</td>\n",
       "    </tr>\n",
       "    <tr>\n",
       "      <th>597</th>\n",
       "      <td>30.600000</td>\n",
       "      <td>29.850000</td>\n",
       "      <td>30.320000</td>\n",
       "      <td>863000</td>\n",
       "      <td>30.320000</td>\n",
       "    </tr>\n",
       "    <tr>\n",
       "      <th>808</th>\n",
       "      <td>162.770004</td>\n",
       "      <td>162.160004</td>\n",
       "      <td>165.539993</td>\n",
       "      <td>5401200</td>\n",
       "      <td>165.539993</td>\n",
       "    </tr>\n",
       "    <tr>\n",
       "      <th>1526</th>\n",
       "      <td>226.000000</td>\n",
       "      <td>219.100006</td>\n",
       "      <td>220.500000</td>\n",
       "      <td>4428700</td>\n",
       "      <td>220.500000</td>\n",
       "    </tr>\n",
       "    <tr>\n",
       "      <th>796</th>\n",
       "      <td>162.300003</td>\n",
       "      <td>160.949997</td>\n",
       "      <td>167.009995</td>\n",
       "      <td>17566900</td>\n",
       "      <td>167.009995</td>\n",
       "    </tr>\n",
       "    <tr>\n",
       "      <th>126</th>\n",
       "      <td>25.850000</td>\n",
       "      <td>25.000000</td>\n",
       "      <td>26.410000</td>\n",
       "      <td>4056300</td>\n",
       "      <td>26.410000</td>\n",
       "    </tr>\n",
       "  </tbody>\n",
       "</table>\n",
       "<p>1269 rows × 5 columns</p>\n",
       "</div>"
      ],
      "text/plain": [
       "            Open         Low       Close    Volume   Adj Close\n",
       "0      19.000000   17.540001   23.889999  18766300   23.889999\n",
       "1358  214.500000  212.520004  221.070007   2811900  221.070007\n",
       "1192  198.270004  192.699997  194.300003   5730400  194.300003\n",
       "587    28.520000   27.250000   27.420000   1016400   27.420000\n",
       "284    25.600000   25.360001   26.309999   1009100   26.309999\n",
       "...          ...         ...         ...       ...         ...\n",
       "597    30.600000   29.850000   30.320000    863000   30.320000\n",
       "808   162.770004  162.160004  165.539993   5401200  165.539993\n",
       "1526  226.000000  219.100006  220.500000   4428700  220.500000\n",
       "796   162.300003  160.949997  167.009995  17566900  167.009995\n",
       "126    25.850000   25.000000   26.410000   4056300   26.410000\n",
       "\n",
       "[1269 rows x 5 columns]"
      ]
     },
     "execution_count": 27,
     "metadata": {},
     "output_type": "execute_result"
    }
   ],
   "source": [
    "x_train"
   ]
  },
  {
   "cell_type": "code",
   "execution_count": 28,
   "metadata": {
    "execution": {
     "iopub.execute_input": "2021-07-04T22:45:29.701080Z",
     "iopub.status.busy": "2021-07-04T22:45:29.700721Z",
     "iopub.status.idle": "2021-07-04T22:45:29.708533Z",
     "shell.execute_reply": "2021-07-04T22:45:29.707820Z",
     "shell.execute_reply.started": "2021-07-04T22:45:29.701050Z"
    }
   },
   "outputs": [],
   "source": [
    "ytest_predictions = model1.predict(x_test)"
   ]
  },
  {
   "cell_type": "code",
   "execution_count": 33,
   "metadata": {},
   "outputs": [],
   "source": [
    "y_test[\"Predict\"] = ytest_predictions"
   ]
  },
  {
   "cell_type": "code",
   "execution_count": 46,
   "metadata": {},
   "outputs": [
    {
     "data": {
      "text/plain": [
       "<AxesSubplot:>"
      ]
     },
     "execution_count": 46,
     "metadata": {},
     "output_type": "execute_result"
    },
    {
     "data": {
      "image/png": "[encoded data removed]",
      "text/plain": [
       "<Figure size 432x288 with 1 Axes>"
      ]
     },
     "metadata": {
      "needs_background": "light"
     },
     "output_type": "display_data"
    }
   ],
   "source": [
    "# y_test = y_test.sort_index()\n",
    "# y_test = y_test.rest_index()\n",
    "\n",
    "y_test.plot()"
   ]
  },
  {
   "cell_type": "code",
   "execution_count": 45,
   "metadata": {},
   "outputs": [],
   "source": [
    "y_test = y_test.drop([\"level_0\",\"index\"], axis=1)"
   ]
  },
  {
   "cell_type": "code",
   "execution_count": 18,
   "metadata": {
    "execution": {
     "iopub.execute_input": "2021-07-04T22:50:45.205135Z",
     "iopub.status.busy": "2021-07-04T22:50:45.204804Z",
     "iopub.status.idle": "2021-07-04T22:50:45.221785Z",
     "shell.execute_reply": "2021-07-04T22:50:45.220624Z",
     "shell.execute_reply.started": "2021-07-04T22:50:45.205107Z"
    }
   },
   "outputs": [
    {
     "data": {
      "text/html": [
       "<div>\n",
       "<style scoped>\n",
       "    .dataframe tbody tr th:only-of-type {\n",
       "        vertical-align: middle;\n",
       "    }\n",
       "\n",
       "    .dataframe tbody tr th {\n",
       "        vertical-align: top;\n",
       "    }\n",
       "\n",
       "    .dataframe thead th {\n",
       "        text-align: right;\n",
       "    }\n",
       "</style>\n",
       "<table border=\"1\" class=\"dataframe\">\n",
       "  <thead>\n",
       "    <tr style=\"text-align: right;\">\n",
       "      <th></th>\n",
       "      <th>Date</th>\n",
       "      <th>Open</th>\n",
       "      <th>High</th>\n",
       "      <th>Low</th>\n",
       "      <th>Close</th>\n",
       "      <th>Volume</th>\n",
       "      <th>Adj Close</th>\n",
       "    </tr>\n",
       "  </thead>\n",
       "  <tbody>\n",
       "    <tr>\n",
       "      <th>50</th>\n",
       "      <td>9/9/2010</td>\n",
       "      <td>21.00</td>\n",
       "      <td>21.049999</td>\n",
       "      <td>20.690001</td>\n",
       "      <td>20.709999</td>\n",
       "      <td>376200</td>\n",
       "      <td>20.709999</td>\n",
       "    </tr>\n",
       "    <tr>\n",
       "      <th>51</th>\n",
       "      <td>9/10/2010</td>\n",
       "      <td>20.75</td>\n",
       "      <td>20.930000</td>\n",
       "      <td>19.760000</td>\n",
       "      <td>20.170000</td>\n",
       "      <td>386600</td>\n",
       "      <td>20.170000</td>\n",
       "    </tr>\n",
       "  </tbody>\n",
       "</table>\n",
       "</div>"
      ],
      "text/plain": [
       "         Date   Open       High        Low      Close  Volume  Adj Close\n",
       "50   9/9/2010  21.00  21.049999  20.690001  20.709999  376200  20.709999\n",
       "51  9/10/2010  20.75  20.930000  19.760000  20.170000  386600  20.170000"
      ]
     },
     "execution_count": 18,
     "metadata": {},
     "output_type": "execute_result"
    }
   ],
   "source": [
    "df.iloc[50:52]"
   ]
  }
 ],
 "metadata": {
  "kernelspec": {
   "display_name": "Python 3",
   "language": "python",
   "name": "python3"
  },
  "language_info": {
   "codemirror_mode": {
    "name": "ipython",
    "version": 3
   },
   "file_extension": ".py",
   "mimetype": "text/x-python",
   "name": "python",
   "nbconvert_exporter": "python",
   "pygments_lexer": "ipython3",
   "version": "3.8.8"
  }
 },
 "nbformat": 4,
 "nbformat_minor": 4
}
